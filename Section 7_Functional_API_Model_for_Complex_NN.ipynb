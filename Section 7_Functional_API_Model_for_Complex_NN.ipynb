{
  "nbformat": 4,
  "nbformat_minor": 0,
  "metadata": {
    "colab": {
      "name": "Section 7:  Functional API Model for Complex NN.ipynb",
      "provenance": [],
      "collapsed_sections": [],
      "toc_visible": true
    },
    "kernelspec": {
      "name": "python3",
      "display_name": "Python 3"
    }
  },
  "cells": [
    {
      "cell_type": "markdown",
      "metadata": {
        "id": "sfVXWqoJVGJn",
        "colab_type": "text"
      },
      "source": [
        "# Functional API"
      ]
    },
    {
      "cell_type": "markdown",
      "metadata": {
        "id": "gOUxOFvmVMCE",
        "colab_type": "text"
      },
      "source": [
        "1.  The Keras functional API is a way to create models that are more flexible than the tf.keras.Sequential API. The functional API can handle models with non-linear topology, shared layers, and even multiple inputs or outputs.\n",
        "\n",
        "2. The main idea is that a deep learning model is usually a directed acyclic graph (DAG) of layers. So the functional API is a way to build graphs of layers."
      ]
    },
    {
      "cell_type": "markdown",
      "metadata": {
        "id": "U8bA7z-fVPiM",
        "colab_type": "text"
      },
      "source": [
        "![functionalapi.png](data:image/png;base64,iVBORw0KGgoAAAANSUhEUgAAAOwAAADWCAMAAADl7J7tAAABVlBMVEX/////8s3a0unY6tLP4vMAAAD/8szO4vX/+dWysrLa2tr/9s7/8tG5ubn/9M6GhYxSUlPWzbOKi4qampvi2L1iYWP4+PhwbGXe7tjM2+ry8vKkoK5ra2yTmo/LzMxQUlBZWlmjo6OZo5VnZV5lZWWWlpabl4mNlIyDg4N0dHTCwsKKkJbZ6NRfX19qampxa1zk5OT//+AUFBSlnok/Pz/X7f///+T//dXFvKIrKyvAztqntcBUW19CQUVmZGra0ezl3/M1MSqLhnIiIiJJRT++y7motaQ+RTtbYliYoKelr7mzw9LG1OZPVVsmLTVpcHh1f4cKEhnIw9KVkpt8eIHa0e1KSFDNydtgXWmzrb0pJyyMiJUlIC+3s8fe2ukwLThRTD0WDgwfHBSxrZIDCADi3rlVUEh+dGLHwK20r5VAOzYaERNqY1FweW5LU0hfaFsgKB6zwq8xhpBqAAARrklEQVR4nO2d+0PayBbHgXJgICENjyIihbCGllCCPC+PVkR8dNW2WutqrbfublsfuO329v//5Z6ZqFWrvEkI7ddKJMnQ+eSceWVOBovFUIXdxv7/uirlMzoHOiqpho3Ogm4KS1LK6DzoJo+aSRqdB92kKEkpa3QmdFJWUhTVZXQudFJcVjKKYnQudFJGSaIf/xxNbVSUVFkS/UbnQxeFw2FfBF+MzodeSkSMzoGO+gU7qfoFO6n6BTvGcrv6lyeZGSC1KxrUFzXoE8VnUt9S1f7TSlJM1rer6ZPWpg3TRkbSs/vljq2V7E57N3JevgxPtWd6dqzj6nRPuXMyDQ22tKVnBeeXp4dsrN70RNYRNt4j7DDNSj9unGFfrK/XhlpudYbtvtJx2jcBVaxdJMHXtQ32N7O383z/+tPuL8e4wjrtz2DdXqrNQ82u+bPTPg1Pr51BoZ2wNgGwT2GjhDzT+c1SbR25NjbsG7A2ba/Zn65PO50v1vGcjaf2Wv7JC9PDljarFNlZegL2NSjZSy+f2V8BPKlB8VUVNvBa4L7NV6VdgM2uP3RsYeeflaifOtfhxToFe/ashG5c2oCtUmnzdUmDnS+V8uul7j5xfGGdFJbVQ0+hhrDOc1h05Wm7swa1C1hn3vxlFuHmS6xeQjemlrUj7AtmWTw4DRsMdqtotzNYk7sxFlRaDdtLxZelNWrZWP3cjZllNdjNYglhu2+KxxbWPr9UK5WmN7FSXodaqQYXsOul0hbgdqM0/fc8hS2ZHtbpnH4Jr+YBsM8wvQRFoGX49eutGuTrtAXGqnkedl+VnPO0NjY7LG1Gn2ytM2772tqLF9h72thaw7ppa6tG960/qdF9tftrXQ+N9IWts35P17o8234x1qNltnTxTttt7+oT9YcddIiHiWkF1XdqfS2rTvdg19vM45x+2otrXEmIKm3pObvrFlk7MQhs/wnRK17GdYS1JMQntUHumb0YIOWL9QeyvjdT/WJM7F+SNEDimKjoPbebTXn6V9w3QGKPyQIUXD9L+AiV8tOEQWFlLqm6VqeGKi4rJpvG619B+acJg7JYolJSkX+OMCiLxZeJyIrO/QKjFJZkWc5IUaPzoYuiSjIiJ5M/TX1stpiKgfQLdlL1C3ZS9Qt2UpXIGJ2DnhT2R74rw36uqf0u+UHfSVFJnTtfbklK3jdKdVHX3ldQjmzbjNOBqKdtU+L2oYGwh3U9H0n1141ktdnu61nBxeuHC4bC6jrX88BIVL1h6z3kbO9NfWf/0HbVFRZubG22P2y9uMrYWnYGluq7sNupkB/aZnZMD/se7h82Gvuw2bjlINu3gBv8o7Fbb3Rr3jGFbTx7d/gHbu7v2Bb27u/W36NbH2zvvJ1BW+4dsPe2g7cvD/Zs+8X5mW4/dUxhbXBwYa5tmH/zFvZxu7QZgR3b3rvqQR3eN3BzH3YbM0vVrv14TGH34I32x4KtjjZu1PMIO9NobM43DuAQfXfn/X/3Go01sDXe1m/zdFPC2hqv7yPMPmxvw/aC7eAdltHzA9szB7uw13hpeljbuwjbvD84RIemvvx+G/awnC415jXYw11496AOe4ei+WF3EA3r25f5xp+bCwvYEO1psO8ab8XGwsLMwRvYbjRmJsOye/Dntm1vB8vpAVLt/bnbuLDsDOwf7sHOfTjE3bjv5cvD8Wx6euhBbc/TRwRoya3DO/hzD1teHB4evLY1dqAK83g1YB528EIcAL0KYwgrdw9rO9ze32d/YE20f/XAxfv9/b3GNnK+378l9RjA1nvqyg5dusIaPp7VE9YjGnlXxnZY13PRobDU/QhlBHqj6z0oSypWfzNjlHZEnVdFcytirDupF5K+75Oku8/vLNmjLysqGO5OEVmTlLjcFYwmuk19m3RH7V7+iE9RkvK1VdsSetam+skdjzxIRpKqcjV+LyhPXvhIOOWTRCkpJxUpcS0QKCqpCaMyNRJlXYooyv5o0JJU1RsLDyaVCVp4MRiNZ0RRcWkhe57IjRDUMF2wbjIWXkTnVUXVl7o0XfhmLJtHVSLKBCy86KbOm/G3XxBFYQvWmTviOBz1y6KkuDpRZEVVzqiiiRdezHqS1523zampaDKTSpm08Qm644okRuLurgNNzRpAEo4m0HmTHZ33mkwJi84riXIi2mujaTpYzXmVHpz3u8wFG04x5/X02X6YCDbr6s95v8sksOi8V3qC/coMsKwnKCVZYxp096+sLzJAarcOYwgcxkjaMIbKow7wnORgT1mKom/kuPLVnmB8t3nqNUoFaXPEz8kE5SsBg1nxEeGMkCBwAk9OYyPuWF+DdUkBjuetRsjhEARyMuJHUq/B+md5K+8wQhTXSh6N+IbdNdg4wrL/WH/D0hfy6IHOsJ2yhH7OLCEIvMBznAN3CByH+60OLHd4CvvB/QI9nZ7JWQkRCD21gzi9Lds2Rw7BynMnnwli8IsFUgGBlnChskgoIWn9RfAM6+Vn4FkC0vL8o3/gGGuDTrC6u3F7WMx6ee4sR20GBeJtUrNZuRbksKzzXGGR8Ghe5HVwaHQ8hPZ3YL0DFe8cBDqadvxgydxyGatOhC2jQ/OED/CnQBzEGuBbiwSdOnAkIBZf5gNWQvkEHiplgUCBM5dlqWeW55ZzhJR5hK2Ag7QAYAoIVwD4e2qxzAUWAT54eQKP8MCpQNMIXjQ7Dx85wYSw+eYJisEKASjwgU+fcrgVvHBG+H/mrHwT4eEswH/+QGgKB1q6XICA2cqs1cEj7NTs3NQUgyWFPLEiSK65mLOW8aWCTLwALQIVghUYVtjo+jzWXfCRWM1lWQ0W3bhM+E8Ulm8ecw6hAv+ZmyM8aS3mCsBUKINXEDRYrMDLj3CP1WRufA5LaHsCGiy+Qajc3HHZwbUWy4VPAdSRlYCXu4Qlc2hnrK87sI4pLLal57At4EmuCbmPwHO5ucWcF7zlMr/ovQIrlJtwlCuXOevYNT1tc+RgFdQZNj0OAWFPkfDsrIKum+M/LFeasEi4z9CqnH0QKCwrs9jkBmDp+Piv5TFsejpefr5VILQv2KxwgSbP8c2zz6cnhONPzuYqTdwWls9OsAN5gj0mPC7gqd4mU0Uwl2W1LGEXGOtYrG5Yd5cQwhHsMRH6Bx7m6JZzYBnFwspGMwJhEjoOMfSF9XcDS7PP2hPaMabWor1f7BbSjvNF60KvBq8NBDh2hA1YO32szpZV+U69CpYrxGOZp//oqJt2hhEQ3wtsROSgowFBa2voUEEbsnaujX0jfjztGmxUrBBHG29znKPSX+58AHcxkLtyJawOx+VBBzO+INAr0+E6CkejDsm4BmtRpFNimAJTsRHPZF+HDW+Ks1MGaTY28sCi67AWSyrh619JZYDEPtfIbxvfhB1I4/79s0OFHfcwqGHCZiVV18BSFwu68rM763G3+7wqd98NNExY11C/f9bv8yX8nnYTIsklfIkC4DlZcHvgPBdwZ4JhwipDDYPKV0WxCNBmEjVKMX0iPcUFl1fFlb8zwRBh3XTBuuHN1uRpxoIitLEtYFtV9KhYLSqqJYpeFVaKyTjaO5gsireUqCHC+mVlmAsvMlj0T8x0VC2yQMmsUlSRL+pKSRHaJhcTljCE40U82WVBNw6CGPVB1RJcElMu+BFseLBBOZORleEtvKjBWqpJdFdfVIEsgivRBFozDsWUjzqvL2ZxLVncEM7iUYRlxVVZ0rapH31ieLBRujqfPLzu7TmsKFuq9DPFJHZmcesrIixiKCIttBZaJeZTHnRdhE3iPosnb4ks+ZI+5cfiPkTLhoOJYX7/7DlsUQlCBvNerFqqIm5VsMQZE7UeZGmxVbDrpsGquC+Vt8jFhC+R8P+QlaF2KoYaQKLBBiEeBiWR8PnjlryaQPlxJGqhXoovUpIa2VMsphhsgrZFWEElsRRbwq4RurFlJLBxLI20jrJEo5YibcWzHgutkSzxKjsq4WsYIMxgs1gpZbGCcuM2KP/YBI0xrJJKpZKA5TWJwG7wY70TtYSXVESMMy5s7YA1daKEL7TcpgBAqVJwgOqPTf74whbZV3ix1lKhDPTzcSsG0bIiwO19tWA2bAmy7W29m/GFvapwVqtsgmyLFVS2r3rQHLDXxcpsPzIjrEvtM+FN2Kh/ACnyIKk9Ot+pCCuiOjuApgZJHFP1vQe1o57yhikwJep5dzEaqxB2u98ICUJA1/vGcZWnsxbn0iKabuiOXdaOu9om1W6v6zsj4J/lO0crjURsBsGIyei7PY3OZqC7cdQebMKKo3FONJ6NQ+/nrCzwkf5ynMBxbLfVKlg5+p7O/dz9wUz6T1m2E52bE/gAnchyHPGCNUAnuDiOP0JmnrfilkbvseAux0VYAcILtPYRhI5zZuMVZkBnJ8nnRUID26BQbgE7XWgBofNcXOEDuUjOc1YtrICamXeU5z6ziD+TwdIIN8LC1grkqMKjHQlpQZlHAxMazscLHBFYmCbzZDqJh0Y/gRPSeYJ2zGBplYmwNOCUhud5MYPegrcCZauA2xbCkqNWK4CGPhW8LS/RjHsEZ9Ic6WJOf+xgaRwU1kvUshWwkhM4/rD8iZA5OP7n7IxwLVg+hhZH4Pf8GTwiLAT3qEBOzAerhQbBIpUWGuQFb46cfcpVwFvmF88IXoMcLcsEpnLlJmhlGD17DmE7ahxhq63Cx48FLTSoWSU0WDN3slx2lAuLyEmDvmiEW4Xj8GJcYJgWdrmMlZLwQzgfDbLOFSD/dz6/VKBxUDyLgzI7LMG2U4twI80zWhnBf07+ohZepJFugkACjssIt7GG7RThdg7LgqsrIHghQMqfgUajlsnxWS4ArTLBgoywvObGDJdMzZHO/dBxg8Wmh3UqWNg8wmB11Tz+B3LcZ2gu/10l3COYO4E5ImiwF5FRCFvuHHSk99Mf1rawtJ8oeL20j2s9PeKwU+EglWYh8BF9uYXbCs8Rb7PZIla+gp2oQIU77/fSRNYuYhf1ftSlUyg59odo3x9ZWIgTT8p0NIBdZPpgG69t0csZ2ffIJ4FvfxkNgO0inO98hMKz516uhHtxDIaOh+hTH+dxig7rZVibg+8YSK4zrEsKtC1Z58d4NurWQtYc36PbhMsTaEVmdVwdmFs5vvOjYPo+i0efshSMEY54yemoly+5fsMtHmt6AwbJW5BGfds5qEbiVyZtXfSLYPtX/wvWifjjG/l36nkU+gD25eIxQXe0f7l8AyQeYBWFHhSMJlRRvGbgPhU3x/fPstXKpK5WB2qjjGm+t5MtnUPXWen7E0z2/bNsEZK+DZzIKBlzfW/npYF7zjb7/lnzrX3FDNzd+l5XFJWUSMaUCy+igTM9GjgZoWtsjnfE8d26MHB3E4lhSVaUjGTihReZgaWuDBz1JRQ5kTDx6nxU2jpR3RjYDEskdVY46u/GwJMBS9VFCZ4cWEtnA08ULFU7A08crKWNgScRlkpbh/KGgU0HG+xSbJHGjKqigcMXuxKRblPf/ok6y51U1QfdSo7QVyzBXadoJzWi8/cIpMTZh78ZpS8xXUcRYfVLOvRd99jPNd2yK3TXrs5Jb+x6GNOzY+0RV+4ZqPQwH+XrKP9s2kjY0GN9v3bqF+zdwhJOX38O2NDqlzYHe70I4w77GO5MEXr8e2jSYBEoFEpTLK01uTgSCn2dQNjQv6u/f3q+Ekp/Xf33f1/T90JfH2Lj+eHbbx+WeqQ1AyzAw28xSKfp9nk1HXqeRFhYXYktr/b2caaA/RK6twIr9+Bx6F4aVkPPHzPY0OwkujH8dg67ipDVL5ewE1lmL2G/YUVVRFifBvv7RMPilr48/xIKrUymG6cR9l4aYdP5/Er6K77/AqvfqtSNF1fSPXWvxh32t2WsfVcRtroSAiUPz3HYhMTV1X+/hb7B3T0OM8LeC4W033vUgxGaOS7tJ9LfdHqcYf0DjXrQc5FO+/ddPbnxiCPcrqn3UY/2y1Kl//32w4HepK9lB7tT0WPd+6PSs3ounhV+MLVy826Sfko/jukabBMVpccPjdHjx7MxnWNtwv7IUG4C93zTWFUf+Hq06/8BYJUWn0EjDFsAAAAASUVORK5CYII=)"
      ]
    },
    {
      "cell_type": "code",
      "metadata": {
        "id": "jUUGtKwoVFuj",
        "colab_type": "code",
        "colab": {}
      },
      "source": [
        "import numpy as np\n",
        "import pandas as pd\n",
        "import matplotlib as mpl\n",
        "import matplotlib.pyplot as plt\n",
        "%matplotlib inline"
      ],
      "execution_count": null,
      "outputs": []
    },
    {
      "cell_type": "code",
      "metadata": {
        "id": "oWFmo7WDmWG_",
        "colab_type": "code",
        "colab": {}
      },
      "source": [
        "import tensorflow as tf\n",
        "from tensorflow import keras"
      ],
      "execution_count": null,
      "outputs": []
    },
    {
      "cell_type": "code",
      "metadata": {
        "id": "46QZQoYpVh6_",
        "colab_type": "code",
        "colab": {}
      },
      "source": [
        "from sklearn.datasets import fetch_california_housing"
      ],
      "execution_count": null,
      "outputs": []
    },
    {
      "cell_type": "code",
      "metadata": {
        "id": "Cw6ytAu3VmX3",
        "colab_type": "code",
        "colab": {}
      },
      "source": [
        "housing = fetch_california_housing()"
      ],
      "execution_count": null,
      "outputs": []
    },
    {
      "cell_type": "code",
      "metadata": {
        "id": "def93cRYVrW1",
        "colab_type": "code",
        "colab": {}
      },
      "source": [
        "from sklearn.model_selection import train_test_split\n",
        "X_train_full, X_test, y_train_full, y_test =  train_test_split(housing.data, housing.target, random_state=42)\n",
        "X_train, X_valid, y_train, y_valid = train_test_split(X_train_full, y_train_full, random_state=42)"
      ],
      "execution_count": null,
      "outputs": []
    },
    {
      "cell_type": "code",
      "metadata": {
        "id": "zWoTA88zVuUk",
        "colab_type": "code",
        "colab": {}
      },
      "source": [
        "from sklearn.preprocessing import StandardScaler\n",
        "scaler = StandardScaler()\n",
        "X_train = scaler.fit_transform(X_train)\n",
        "X_valid = scaler.transform(X_valid)\n",
        "X_test = scaler.transform(X_test)"
      ],
      "execution_count": null,
      "outputs": []
    },
    {
      "cell_type": "code",
      "metadata": {
        "id": "vweWxpz0VwfM",
        "colab_type": "code",
        "colab": {}
      },
      "source": [
        "np.random.seed(42)\n",
        "tf.random.set_seed(42)"
      ],
      "execution_count": null,
      "outputs": []
    },
    {
      "cell_type": "code",
      "metadata": {
        "id": "9u07f6Z8WSMZ",
        "colab_type": "code",
        "colab": {
          "base_uri": "https://localhost:8080/",
          "height": 35
        },
        "outputId": "caff18b0-d9ed-47da-94fa-e8aa8e463c74"
      },
      "source": [
        "X_train.shape"
      ],
      "execution_count": null,
      "outputs": [
        {
          "output_type": "execute_result",
          "data": {
            "text/plain": [
              "(11610, 8)"
            ]
          },
          "metadata": {
            "tags": []
          },
          "execution_count": 27
        }
      ]
    },
    {
      "cell_type": "code",
      "metadata": {
        "id": "APF7Zp69VxOo",
        "colab_type": "code",
        "colab": {}
      },
      "source": [
        "input_ = keras.layers.Input(X_train.shape[1:])\n",
        "hidden1 = keras.layers.Dense(30, activation=\"relu\")(input_) #using input_ as a function in dense layer hence functional api\n",
        "hidden2 = keras.layers.Dense(30, activation=\"relu\")(hidden1)\n",
        "concat = keras.layers.concatenate([input_, hidden2])\n",
        "output = keras.layers.Dense(1)(concat)\n",
        "model = keras.models.Model(inputs=[input_],outputs=[output])"
      ],
      "execution_count": null,
      "outputs": []
    },
    {
      "cell_type": "code",
      "metadata": {
        "id": "qTpaE_DiZe2V",
        "colab_type": "code",
        "colab": {}
      },
      "source": [
        "# del model "
      ],
      "execution_count": null,
      "outputs": []
    },
    {
      "cell_type": "code",
      "metadata": {
        "id": "rcQIEBgDZhYL",
        "colab_type": "code",
        "colab": {}
      },
      "source": [
        "# keras.backend.clear_session()"
      ],
      "execution_count": null,
      "outputs": []
    },
    {
      "cell_type": "code",
      "metadata": {
        "id": "UFcn0NYwZAzS",
        "colab_type": "code",
        "colab": {
          "base_uri": "https://localhost:8080/",
          "height": 347
        },
        "outputId": "b44a4cbe-1281-4be8-87e4-f8fcc13cbafd"
      },
      "source": [
        "model.summary()"
      ],
      "execution_count": null,
      "outputs": [
        {
          "output_type": "stream",
          "text": [
            "Model: \"functional_1\"\n",
            "__________________________________________________________________________________________________\n",
            "Layer (type)                    Output Shape         Param #     Connected to                     \n",
            "==================================================================================================\n",
            "input_1 (InputLayer)            [(None, 8)]          0                                            \n",
            "__________________________________________________________________________________________________\n",
            "dense (Dense)                   (None, 30)           270         input_1[0][0]                    \n",
            "__________________________________________________________________________________________________\n",
            "dense_1 (Dense)                 (None, 30)           930         dense[0][0]                      \n",
            "__________________________________________________________________________________________________\n",
            "concatenate (Concatenate)       (None, 38)           0           input_1[0][0]                    \n",
            "                                                                 dense_1[0][0]                    \n",
            "__________________________________________________________________________________________________\n",
            "dense_2 (Dense)                 (None, 1)            39          concatenate[0][0]                \n",
            "==================================================================================================\n",
            "Total params: 1,239\n",
            "Trainable params: 1,239\n",
            "Non-trainable params: 0\n",
            "__________________________________________________________________________________________________\n"
          ],
          "name": "stdout"
        }
      ]
    },
    {
      "cell_type": "code",
      "metadata": {
        "id": "L1udia3VZzwy",
        "colab_type": "code",
        "colab": {}
      },
      "source": [
        "model.compile(loss=\"mean_squared_error\",\n",
        "              optimizer=keras.optimizers.SGD(lr=1e-3),\n",
        "              metrics=[\"mae\"])"
      ],
      "execution_count": null,
      "outputs": []
    },
    {
      "cell_type": "code",
      "metadata": {
        "id": "wc9MDOnsaFoN",
        "colab_type": "code",
        "colab": {
          "base_uri": "https://localhost:8080/",
          "height": 1000
        },
        "outputId": "56595ba1-df02-4470-83c0-bd340100d859"
      },
      "source": [
        "model_history = model.fit(X_train, y_train, epochs=40, validation_data=(X_valid, y_valid))"
      ],
      "execution_count": null,
      "outputs": [
        {
          "output_type": "stream",
          "text": [
            "Epoch 1/40\n",
            "363/363 [==============================] - 0s 1ms/step - loss: 0.3709 - mae: 0.4335 - val_loss: 0.3834 - val_mae: 0.4255\n",
            "Epoch 2/40\n",
            "363/363 [==============================] - 0s 1ms/step - loss: 0.3701 - mae: 0.4326 - val_loss: 0.4377 - val_mae: 0.4316\n",
            "Epoch 3/40\n",
            "363/363 [==============================] - 0s 1ms/step - loss: 0.3692 - mae: 0.4328 - val_loss: 0.4013 - val_mae: 0.4263\n",
            "Epoch 4/40\n",
            "363/363 [==============================] - 0s 1ms/step - loss: 0.3680 - mae: 0.4315 - val_loss: 0.3788 - val_mae: 0.4270\n",
            "Epoch 5/40\n",
            "363/363 [==============================] - 0s 1ms/step - loss: 0.3676 - mae: 0.4310 - val_loss: 0.3719 - val_mae: 0.4246\n",
            "Epoch 6/40\n",
            "363/363 [==============================] - 0s 1ms/step - loss: 0.3663 - mae: 0.4304 - val_loss: 0.3966 - val_mae: 0.4245\n",
            "Epoch 7/40\n",
            "363/363 [==============================] - 0s 1ms/step - loss: 0.3659 - mae: 0.4297 - val_loss: 0.3727 - val_mae: 0.4236\n",
            "Epoch 8/40\n",
            "363/363 [==============================] - 0s 1ms/step - loss: 0.3649 - mae: 0.4294 - val_loss: 0.3572 - val_mae: 0.4203\n",
            "Epoch 9/40\n",
            "363/363 [==============================] - 0s 1ms/step - loss: 0.3640 - mae: 0.4287 - val_loss: 0.3890 - val_mae: 0.4222\n",
            "Epoch 10/40\n",
            "363/363 [==============================] - 0s 1ms/step - loss: 0.3633 - mae: 0.4281 - val_loss: 0.3938 - val_mae: 0.4218\n",
            "Epoch 11/40\n",
            "363/363 [==============================] - 0s 1ms/step - loss: 0.3628 - mae: 0.4274 - val_loss: 0.3469 - val_mae: 0.4184\n",
            "Epoch 12/40\n",
            "363/363 [==============================] - 0s 1ms/step - loss: 0.3618 - mae: 0.4268 - val_loss: 0.4197 - val_mae: 0.4233\n",
            "Epoch 13/40\n",
            "363/363 [==============================] - 0s 981us/step - loss: 0.3613 - mae: 0.4264 - val_loss: 0.3758 - val_mae: 0.4222\n",
            "Epoch 14/40\n",
            "363/363 [==============================] - 0s 981us/step - loss: 0.3604 - mae: 0.4255 - val_loss: 0.3526 - val_mae: 0.4193\n",
            "Epoch 15/40\n",
            "363/363 [==============================] - 0s 990us/step - loss: 0.3597 - mae: 0.4255 - val_loss: 0.3828 - val_mae: 0.4212\n",
            "Epoch 16/40\n",
            "363/363 [==============================] - 0s 999us/step - loss: 0.3590 - mae: 0.4251 - val_loss: 0.3435 - val_mae: 0.4169\n",
            "Epoch 17/40\n",
            "363/363 [==============================] - 0s 1ms/step - loss: 0.3583 - mae: 0.4244 - val_loss: 0.3968 - val_mae: 0.4203\n",
            "Epoch 18/40\n",
            "363/363 [==============================] - 0s 983us/step - loss: 0.3582 - mae: 0.4242 - val_loss: 0.3738 - val_mae: 0.4175\n",
            "Epoch 19/40\n",
            "363/363 [==============================] - 0s 977us/step - loss: 0.3571 - mae: 0.4233 - val_loss: 0.3636 - val_mae: 0.4171\n",
            "Epoch 20/40\n",
            "363/363 [==============================] - 0s 985us/step - loss: 0.3565 - mae: 0.4229 - val_loss: 0.4170 - val_mae: 0.4211\n",
            "Epoch 21/40\n",
            "363/363 [==============================] - 0s 972us/step - loss: 0.3560 - mae: 0.4224 - val_loss: 0.3742 - val_mae: 0.4196\n",
            "Epoch 22/40\n",
            "363/363 [==============================] - 0s 1ms/step - loss: 0.3552 - mae: 0.4224 - val_loss: 0.4303 - val_mae: 0.4226\n",
            "Epoch 23/40\n",
            "363/363 [==============================] - 0s 1ms/step - loss: 0.3548 - mae: 0.4223 - val_loss: 0.3366 - val_mae: 0.4109\n",
            "Epoch 24/40\n",
            "363/363 [==============================] - 0s 1ms/step - loss: 0.3540 - mae: 0.4209 - val_loss: 0.3768 - val_mae: 0.4161\n",
            "Epoch 25/40\n",
            "363/363 [==============================] - 0s 1000us/step - loss: 0.3534 - mae: 0.4208 - val_loss: 0.3934 - val_mae: 0.4174\n",
            "Epoch 26/40\n",
            "363/363 [==============================] - 0s 982us/step - loss: 0.3531 - mae: 0.4205 - val_loss: 0.3894 - val_mae: 0.4164\n",
            "Epoch 27/40\n",
            "363/363 [==============================] - 0s 1ms/step - loss: 0.3528 - mae: 0.4203 - val_loss: 0.3366 - val_mae: 0.4111\n",
            "Epoch 28/40\n",
            "363/363 [==============================] - 0s 982us/step - loss: 0.3520 - mae: 0.4194 - val_loss: 0.3800 - val_mae: 0.4171\n",
            "Epoch 29/40\n",
            "363/363 [==============================] - 0s 970us/step - loss: 0.3516 - mae: 0.4196 - val_loss: 0.3584 - val_mae: 0.4146\n",
            "Epoch 30/40\n",
            "363/363 [==============================] - 0s 1ms/step - loss: 0.3508 - mae: 0.4189 - val_loss: 0.3864 - val_mae: 0.4146\n",
            "Epoch 31/40\n",
            "363/363 [==============================] - 0s 972us/step - loss: 0.3501 - mae: 0.4183 - val_loss: 0.3521 - val_mae: 0.4118\n",
            "Epoch 32/40\n",
            "363/363 [==============================] - 0s 1ms/step - loss: 0.3497 - mae: 0.4180 - val_loss: 0.3915 - val_mae: 0.4172\n",
            "Epoch 33/40\n",
            "363/363 [==============================] - 0s 996us/step - loss: 0.3496 - mae: 0.4184 - val_loss: 0.3446 - val_mae: 0.4118\n",
            "Epoch 34/40\n",
            "363/363 [==============================] - 0s 949us/step - loss: 0.3487 - mae: 0.4175 - val_loss: 0.3490 - val_mae: 0.4126\n",
            "Epoch 35/40\n",
            "363/363 [==============================] - 0s 1ms/step - loss: 0.3484 - mae: 0.4173 - val_loss: 0.3980 - val_mae: 0.4167\n",
            "Epoch 36/40\n",
            "363/363 [==============================] - 0s 1ms/step - loss: 0.3478 - mae: 0.4172 - val_loss: 0.3321 - val_mae: 0.4083\n",
            "Epoch 37/40\n",
            "363/363 [==============================] - 0s 1ms/step - loss: 0.3475 - mae: 0.4164 - val_loss: 0.3632 - val_mae: 0.4126\n",
            "Epoch 38/40\n",
            "363/363 [==============================] - 0s 1ms/step - loss: 0.3470 - mae: 0.4165 - val_loss: 0.3398 - val_mae: 0.4095\n",
            "Epoch 39/40\n",
            "363/363 [==============================] - 0s 938us/step - loss: 0.3463 - mae: 0.4157 - val_loss: 0.3443 - val_mae: 0.4092\n",
            "Epoch 40/40\n",
            "363/363 [==============================] - 0s 950us/step - loss: 0.3457 - mae: 0.4156 - val_loss: 0.3505 - val_mae: 0.4081\n"
          ],
          "name": "stdout"
        }
      ]
    },
    {
      "cell_type": "code",
      "metadata": {
        "id": "bPtgSOmBablV",
        "colab_type": "code",
        "colab": {
          "base_uri": "https://localhost:8080/",
          "height": 1000
        },
        "outputId": "d0ca9d25-0954-4402-c022-385d7297de2e"
      },
      "source": [
        "model_history.history"
      ],
      "execution_count": null,
      "outputs": [
        {
          "output_type": "execute_result",
          "data": {
            "text/plain": [
              "{'loss': [0.37091273069381714,\n",
              "  0.3700878620147705,\n",
              "  0.36922743916511536,\n",
              "  0.3680194616317749,\n",
              "  0.3675899803638458,\n",
              "  0.3662545084953308,\n",
              "  0.36588138341903687,\n",
              "  0.36490675806999207,\n",
              "  0.36398255825042725,\n",
              "  0.3633081316947937,\n",
              "  0.3627561330795288,\n",
              "  0.36178386211395264,\n",
              "  0.3612549602985382,\n",
              "  0.3604055345058441,\n",
              "  0.3597036898136139,\n",
              "  0.358980268239975,\n",
              "  0.35829687118530273,\n",
              "  0.35815101861953735,\n",
              "  0.35714951157569885,\n",
              "  0.356535404920578,\n",
              "  0.35603034496307373,\n",
              "  0.35518592596054077,\n",
              "  0.354839563369751,\n",
              "  0.3540306091308594,\n",
              "  0.353405237197876,\n",
              "  0.35305291414260864,\n",
              "  0.35275983810424805,\n",
              "  0.35197529196739197,\n",
              "  0.3515803813934326,\n",
              "  0.35077667236328125,\n",
              "  0.3500552773475647,\n",
              "  0.3497486114501953,\n",
              "  0.34958940744400024,\n",
              "  0.34873098134994507,\n",
              "  0.34838220477104187,\n",
              "  0.3478109836578369,\n",
              "  0.3475108742713928,\n",
              "  0.3469754457473755,\n",
              "  0.34626439213752747,\n",
              "  0.3456989824771881],\n",
              " 'mae': [0.4335395097732544,\n",
              "  0.43260347843170166,\n",
              "  0.43281444907188416,\n",
              "  0.43150195479393005,\n",
              "  0.4309936761856079,\n",
              "  0.43037647008895874,\n",
              "  0.42971786856651306,\n",
              "  0.42939311265945435,\n",
              "  0.4287453293800354,\n",
              "  0.42813900113105774,\n",
              "  0.4273609519004822,\n",
              "  0.42679348587989807,\n",
              "  0.4264325499534607,\n",
              "  0.42550450563430786,\n",
              "  0.42547205090522766,\n",
              "  0.4250693917274475,\n",
              "  0.4244326949119568,\n",
              "  0.4242101311683655,\n",
              "  0.42331141233444214,\n",
              "  0.42289647459983826,\n",
              "  0.4223654568195343,\n",
              "  0.4223519563674927,\n",
              "  0.42228060960769653,\n",
              "  0.42085137963294983,\n",
              "  0.420847088098526,\n",
              "  0.42051634192466736,\n",
              "  0.4202786982059479,\n",
              "  0.4194174110889435,\n",
              "  0.4195779860019684,\n",
              "  0.4189455509185791,\n",
              "  0.41825491189956665,\n",
              "  0.4179731607437134,\n",
              "  0.4183697998523712,\n",
              "  0.4175102114677429,\n",
              "  0.4172624945640564,\n",
              "  0.4172000288963318,\n",
              "  0.4163649082183838,\n",
              "  0.41648679971694946,\n",
              "  0.415688157081604,\n",
              "  0.41555076837539673],\n",
              " 'val_loss': [0.3833984136581421,\n",
              "  0.4376741349697113,\n",
              "  0.40127211809158325,\n",
              "  0.3788374066352844,\n",
              "  0.3719305992126465,\n",
              "  0.39657342433929443,\n",
              "  0.37272554636001587,\n",
              "  0.35718467831611633,\n",
              "  0.3889605402946472,\n",
              "  0.39380189776420593,\n",
              "  0.3468961715698242,\n",
              "  0.41971641778945923,\n",
              "  0.3757776618003845,\n",
              "  0.3526355028152466,\n",
              "  0.38275671005249023,\n",
              "  0.3435228168964386,\n",
              "  0.39680132269859314,\n",
              "  0.37382665276527405,\n",
              "  0.36364802718162537,\n",
              "  0.41701361536979675,\n",
              "  0.37421849370002747,\n",
              "  0.4303308129310608,\n",
              "  0.33663421869277954,\n",
              "  0.37681087851524353,\n",
              "  0.3933503031730652,\n",
              "  0.38939499855041504,\n",
              "  0.33663782477378845,\n",
              "  0.37995636463165283,\n",
              "  0.358420729637146,\n",
              "  0.38643255829811096,\n",
              "  0.3521210253238678,\n",
              "  0.39145559072494507,\n",
              "  0.34457850456237793,\n",
              "  0.34895843267440796,\n",
              "  0.39800453186035156,\n",
              "  0.33205991983413696,\n",
              "  0.3631913661956787,\n",
              "  0.33976924419403076,\n",
              "  0.34431856870651245,\n",
              "  0.35047829151153564],\n",
              " 'val_mae': [0.4255014657974243,\n",
              "  0.4315895438194275,\n",
              "  0.42632681131362915,\n",
              "  0.426990270614624,\n",
              "  0.42457619309425354,\n",
              "  0.4245375096797943,\n",
              "  0.4236050844192505,\n",
              "  0.42032644152641296,\n",
              "  0.42222434282302856,\n",
              "  0.4218202233314514,\n",
              "  0.418351411819458,\n",
              "  0.42332497239112854,\n",
              "  0.4221559762954712,\n",
              "  0.4193461537361145,\n",
              "  0.42115864157676697,\n",
              "  0.41690126061439514,\n",
              "  0.42034393548965454,\n",
              "  0.4174608886241913,\n",
              "  0.41713520884513855,\n",
              "  0.4210975468158722,\n",
              "  0.4196394979953766,\n",
              "  0.42263609170913696,\n",
              "  0.4108544886112213,\n",
              "  0.416113018989563,\n",
              "  0.41736918687820435,\n",
              "  0.4164116680622101,\n",
              "  0.411064088344574,\n",
              "  0.41714245080947876,\n",
              "  0.41460275650024414,\n",
              "  0.414596289396286,\n",
              "  0.41184842586517334,\n",
              "  0.4171644449234009,\n",
              "  0.4118194282054901,\n",
              "  0.4125722050666809,\n",
              "  0.41674569249153137,\n",
              "  0.4083063006401062,\n",
              "  0.4125969707965851,\n",
              "  0.40948307514190674,\n",
              "  0.4091881811618805,\n",
              "  0.4080941379070282]}"
            ]
          },
          "metadata": {
            "tags": []
          },
          "execution_count": 40
        }
      ]
    },
    {
      "cell_type": "code",
      "metadata": {
        "id": "-eW5k_UTagcc",
        "colab_type": "code",
        "colab": {
          "base_uri": "https://localhost:8080/",
          "height": 324
        },
        "outputId": "1e5e5092-bb2d-4321-df0e-1d2c06546941"
      },
      "source": [
        "pd.DataFrame(model_history.history).plot(figsize=(8,5))\n",
        "plt.grid(True)\n",
        "plt.gca().set_ylim(0,1)\n",
        "plt.show()"
      ],
      "execution_count": null,
      "outputs": [
        {
          "output_type": "display_data",
          "data": {
            "image/png": "[encoded data removed]",
            "text/plain": [
              "<Figure size 576x360 with 1 Axes>"
            ]
          },
          "metadata": {
            "tags": [],
            "needs_background": "light"
          }
        }
      ]
    },
    {
      "cell_type": "code",
      "metadata": {
        "id": "7ywFD5yYak4h",
        "colab_type": "code",
        "colab": {
          "base_uri": "https://localhost:8080/",
          "height": 35
        },
        "outputId": "012975ce-c624-49e2-8988-b4888b117339"
      },
      "source": [
        "mae_test = model.evaluate(X_test, y_test)  # 40 epochs"
      ],
      "execution_count": null,
      "outputs": [
        {
          "output_type": "stream",
          "text": [
            "162/162 [==============================] - 0s 702us/step - loss: 0.3685 - mae: 0.4314\n"
          ],
          "name": "stdout"
        }
      ]
    },
    {
      "cell_type": "code",
      "metadata": {
        "id": "NO1dxejAbI0S",
        "colab_type": "code",
        "colab": {
          "base_uri": "https://localhost:8080/",
          "height": 35
        },
        "outputId": "8f9f2e71-1f57-4e4e-8a89-defe2f944c6c"
      },
      "source": [
        "mae_test = model.evaluate(X_test, y_test)  # 80 epochs,  loss further decreased"
      ],
      "execution_count": null,
      "outputs": [
        {
          "output_type": "stream",
          "text": [
            "162/162 [==============================] - 0s 682us/step - loss: 0.3453 - mae: 0.4138\n"
          ],
          "name": "stdout"
        }
      ]
    },
    {
      "cell_type": "markdown",
      "metadata": {
        "id": "k2xm21FVb_D9",
        "colab_type": "text"
      },
      "source": [
        "# Saving and Restoring Models"
      ]
    },
    {
      "cell_type": "code",
      "metadata": {
        "id": "NCZOpEiacEy0",
        "colab_type": "code",
        "colab": {}
      },
      "source": [
        "model.save('my_function_api_model.h5')"
      ],
      "execution_count": null,
      "outputs": []
    },
    {
      "cell_type": "code",
      "metadata": {
        "id": "meVE7oLCclGI",
        "colab_type": "code",
        "colab": {
          "base_uri": "https://localhost:8080/",
          "height": 35
        },
        "outputId": "630934e2-7eee-4aa1-8c0a-5443bae30f7c"
      },
      "source": [
        "%pwd"
      ],
      "execution_count": null,
      "outputs": [
        {
          "output_type": "execute_result",
          "data": {
            "application/vnd.google.colaboratory.intrinsic+json": {
              "type": "string"
            },
            "text/plain": [
              "'/content'"
            ]
          },
          "metadata": {
            "tags": []
          },
          "execution_count": 45
        }
      ]
    },
    {
      "cell_type": "code",
      "metadata": {
        "id": "LKtvoj3ycnpN",
        "colab_type": "code",
        "colab": {
          "base_uri": "https://localhost:8080/",
          "height": 35
        },
        "outputId": "c3d8fbe5-5248-4ea7-8fae-516bbf928467"
      },
      "source": [
        "%ls"
      ],
      "execution_count": null,
      "outputs": [
        {
          "output_type": "stream",
          "text": [
            "my_function_api_model.h5  \u001b[0m\u001b[01;34msample_data\u001b[0m/\n"
          ],
          "name": "stdout"
        }
      ]
    },
    {
      "cell_type": "code",
      "metadata": {
        "id": "PTq-6zpNcuKH",
        "colab_type": "code",
        "colab": {}
      },
      "source": [
        "del model"
      ],
      "execution_count": null,
      "outputs": []
    },
    {
      "cell_type": "code",
      "metadata": {
        "id": "etdvJ5EJcvt8",
        "colab_type": "code",
        "colab": {}
      },
      "source": [
        "keras.backend.clear_session()"
      ],
      "execution_count": null,
      "outputs": []
    },
    {
      "cell_type": "code",
      "metadata": {
        "id": "KAbrqp3Kc0X4",
        "colab_type": "code",
        "colab": {}
      },
      "source": [
        "model = keras.models.load_model(\"my_function_api_model.h5\")"
      ],
      "execution_count": null,
      "outputs": []
    },
    {
      "cell_type": "code",
      "metadata": {
        "id": "dDonFMeEc80G",
        "colab_type": "code",
        "colab": {
          "base_uri": "https://localhost:8080/",
          "height": 347
        },
        "outputId": "cd1396e4-7d09-4c1f-c0ec-5e1ffcae41af"
      },
      "source": [
        "model.summary()"
      ],
      "execution_count": null,
      "outputs": [
        {
          "output_type": "stream",
          "text": [
            "Model: \"functional_1\"\n",
            "__________________________________________________________________________________________________\n",
            "Layer (type)                    Output Shape         Param #     Connected to                     \n",
            "==================================================================================================\n",
            "input_1 (InputLayer)            [(None, 8)]          0                                            \n",
            "__________________________________________________________________________________________________\n",
            "dense (Dense)                   (None, 30)           270         input_1[0][0]                    \n",
            "__________________________________________________________________________________________________\n",
            "dense_1 (Dense)                 (None, 30)           930         dense[0][0]                      \n",
            "__________________________________________________________________________________________________\n",
            "concatenate (Concatenate)       (None, 38)           0           input_1[0][0]                    \n",
            "                                                                 dense_1[0][0]                    \n",
            "__________________________________________________________________________________________________\n",
            "dense_2 (Dense)                 (None, 1)            39          concatenate[0][0]                \n",
            "==================================================================================================\n",
            "Total params: 1,239\n",
            "Trainable params: 1,239\n",
            "Non-trainable params: 0\n",
            "__________________________________________________________________________________________________\n"
          ],
          "name": "stdout"
        }
      ]
    },
    {
      "cell_type": "markdown",
      "metadata": {
        "id": "RJAVvw-IdYfF",
        "colab_type": "text"
      },
      "source": [
        "# Using Callbacks during Training of Networks"
      ]
    },
    {
      "cell_type": "code",
      "metadata": {
        "id": "JDIFFh96dp5W",
        "colab_type": "code",
        "colab": {}
      },
      "source": [
        "del model\n",
        "keras.backend.clear_session()"
      ],
      "execution_count": null,
      "outputs": []
    },
    {
      "cell_type": "code",
      "metadata": {
        "id": "WywSnKLLdXfc",
        "colab_type": "code",
        "colab": {}
      },
      "source": [
        "np.random.seed(42)\n",
        "tf.random.set_seed(42)"
      ],
      "execution_count": null,
      "outputs": []
    },
    {
      "cell_type": "code",
      "metadata": {
        "id": "puNxVo1Gdne6",
        "colab_type": "code",
        "colab": {}
      },
      "source": [
        "model = keras.models.Sequential([\n",
        "    keras.layers.Dense(30, activation=\"relu\", input_shape=[8]),\n",
        "    keras.layers.Dense(30, activation=\"relu\"),\n",
        "    keras.layers.Dense(1)\n",
        "])    "
      ],
      "execution_count": null,
      "outputs": []
    },
    {
      "cell_type": "code",
      "metadata": {
        "id": "_VLCyA52eQS_",
        "colab_type": "code",
        "colab": {}
      },
      "source": [
        "model.compile(loss=\"mse\", optimizer=keras.optimizers.SGD(lr=1e-3))"
      ],
      "execution_count": null,
      "outputs": []
    },
    {
      "cell_type": "code",
      "metadata": {
        "id": "XYX9wc2Reip7",
        "colab_type": "code",
        "colab": {}
      },
      "source": [
        "checkpoint_cb = keras.callbacks.ModelCheckpoint(\"Model-{epoch:02d}.h5\")"
      ],
      "execution_count": null,
      "outputs": []
    },
    {
      "cell_type": "code",
      "metadata": {
        "id": "lkWZvE9ffEiJ",
        "colab_type": "code",
        "colab": {
          "base_uri": "https://localhost:8080/",
          "height": 364
        },
        "outputId": "199cd23e-8de2-40a0-d060-40bcfd2d6738"
      },
      "source": [
        "history = model.fit(X_train, y_train, epochs=10,\n",
        "                    validation_data=(X_valid, y_valid),\n",
        "                    callbacks=[checkpoint_cb])"
      ],
      "execution_count": null,
      "outputs": [
        {
          "output_type": "stream",
          "text": [
            "Epoch 1/10\n",
            "363/363 [==============================] - 0s 1ms/step - loss: 1.8866 - val_loss: 0.7126\n",
            "Epoch 2/10\n",
            "363/363 [==============================] - 0s 1ms/step - loss: 0.6577 - val_loss: 0.6880\n",
            "Epoch 3/10\n",
            "363/363 [==============================] - 0s 1ms/step - loss: 0.5934 - val_loss: 0.5803\n",
            "Epoch 4/10\n",
            "363/363 [==============================] - 0s 1ms/step - loss: 0.5557 - val_loss: 0.5166\n",
            "Epoch 5/10\n",
            "363/363 [==============================] - 0s 1ms/step - loss: 0.5272 - val_loss: 0.4895\n",
            "Epoch 6/10\n",
            "363/363 [==============================] - 0s 1ms/step - loss: 0.5033 - val_loss: 0.4951\n",
            "Epoch 7/10\n",
            "363/363 [==============================] - 0s 1ms/step - loss: 0.4854 - val_loss: 0.4861\n",
            "Epoch 8/10\n",
            "363/363 [==============================] - 0s 1ms/step - loss: 0.4709 - val_loss: 0.4554\n",
            "Epoch 9/10\n",
            "363/363 [==============================] - 0s 1ms/step - loss: 0.4578 - val_loss: 0.4413\n",
            "Epoch 10/10\n",
            "363/363 [==============================] - 0s 1ms/step - loss: 0.4474 - val_loss: 0.4379\n"
          ],
          "name": "stdout"
        }
      ]
    },
    {
      "cell_type": "code",
      "metadata": {
        "id": "9ugrl94ghWih",
        "colab_type": "code",
        "colab": {
          "base_uri": "https://localhost:8080/",
          "height": 69
        },
        "outputId": "f3bb1c0e-862a-4339-8861-dfc8d019c214"
      },
      "source": [
        "%ls  #saving model after each epoch - callback"
      ],
      "execution_count": null,
      "outputs": [
        {
          "output_type": "stream",
          "text": [
            "Model-01.h5  Model-04.h5  Model-07.h5  Model-10.h5\n",
            "Model-02.h5  Model-05.h5  Model-08.h5  my_function_api_model.h5\n",
            "Model-03.h5  Model-06.h5  Model-09.h5  \u001b[0m\u001b[01;34msample_data\u001b[0m/\n"
          ],
          "name": "stdout"
        }
      ]
    },
    {
      "cell_type": "code",
      "metadata": {
        "id": "AVWt1sIZhoJc",
        "colab_type": "code",
        "colab": {}
      },
      "source": [
        "del model\n",
        "keras.backend.clear_session()"
      ],
      "execution_count": null,
      "outputs": []
    },
    {
      "cell_type": "code",
      "metadata": {
        "id": "zSzJFiTRh0Rb",
        "colab_type": "code",
        "colab": {}
      },
      "source": [
        "model = keras.models.load_model(\"Model-10.h5\")"
      ],
      "execution_count": null,
      "outputs": []
    },
    {
      "cell_type": "code",
      "metadata": {
        "id": "jbDvGfVGh6JU",
        "colab_type": "code",
        "colab": {
          "base_uri": "https://localhost:8080/",
          "height": 260
        },
        "outputId": "6fae1112-9bcd-4689-9bf1-558b746f9578"
      },
      "source": [
        "model.summary()"
      ],
      "execution_count": null,
      "outputs": [
        {
          "output_type": "stream",
          "text": [
            "Model: \"sequential\"\n",
            "_________________________________________________________________\n",
            "Layer (type)                 Output Shape              Param #   \n",
            "=================================================================\n",
            "dense (Dense)                (None, 30)                270       \n",
            "_________________________________________________________________\n",
            "dense_1 (Dense)              (None, 30)                930       \n",
            "_________________________________________________________________\n",
            "dense_2 (Dense)              (None, 1)                 31        \n",
            "=================================================================\n",
            "Total params: 1,231\n",
            "Trainable params: 1,231\n",
            "Non-trainable params: 0\n",
            "_________________________________________________________________\n"
          ],
          "name": "stdout"
        }
      ]
    },
    {
      "cell_type": "markdown",
      "metadata": {
        "id": "cYOwUTREiXVU",
        "colab_type": "text"
      },
      "source": [
        "# Using Callacks during Training only for Best Models"
      ]
    },
    {
      "cell_type": "markdown",
      "metadata": {
        "id": "5vZ8XrQbigNO",
        "colab_type": "text"
      },
      "source": [
        "(models which had low loss or higher accuracy)"
      ]
    },
    {
      "cell_type": "code",
      "metadata": {
        "id": "ITFY82jDikhu",
        "colab_type": "code",
        "colab": {}
      },
      "source": [
        "del model\n",
        "keras.backend.clear_session()"
      ],
      "execution_count": null,
      "outputs": []
    },
    {
      "cell_type": "code",
      "metadata": {
        "id": "c2yyLo_giw2Y",
        "colab_type": "code",
        "colab": {}
      },
      "source": [
        "np.random.seed(42)\n",
        "tf.random.set_seed(42)"
      ],
      "execution_count": null,
      "outputs": []
    },
    {
      "cell_type": "code",
      "metadata": {
        "id": "3lNb7fyji1N0",
        "colab_type": "code",
        "colab": {}
      },
      "source": [
        "model = keras.models.Sequential([\n",
        "    keras.layers.Dense(30, activation=\"relu\", input_shape=[8]),\n",
        "    keras.layers.Dense(30, activation=\"relu\"),\n",
        "    keras.layers.Dense(1)\n",
        "])    "
      ],
      "execution_count": null,
      "outputs": []
    },
    {
      "cell_type": "code",
      "metadata": {
        "id": "T2R0E7_Yi58g",
        "colab_type": "code",
        "colab": {}
      },
      "source": [
        "model.compile(loss=\"mse\", optimizer=keras.optimizers.SGD(lr=1e-3))"
      ],
      "execution_count": null,
      "outputs": []
    },
    {
      "cell_type": "code",
      "metadata": {
        "id": "89Aoo1wZi75P",
        "colab_type": "code",
        "colab": {}
      },
      "source": [
        "checkpoint_cb = keras.callbacks.ModelCheckpoint(\"BestModel.h5\", save_best_only=True)"
      ],
      "execution_count": null,
      "outputs": []
    },
    {
      "cell_type": "code",
      "metadata": {
        "id": "4XGU4V5DjFNz",
        "colab_type": "code",
        "colab": {
          "base_uri": "https://localhost:8080/",
          "height": 364
        },
        "outputId": "12281819-5fe9-4406-ba6e-9b7f10c7de54"
      },
      "source": [
        "history = model.fit(X_train, y_train, epochs=10,\n",
        "                    validation_data=(X_valid, y_valid),\n",
        "                    callbacks=[checkpoint_cb])"
      ],
      "execution_count": null,
      "outputs": [
        {
          "output_type": "stream",
          "text": [
            "Epoch 1/10\n",
            "363/363 [==============================] - 0s 1ms/step - loss: 1.8866 - val_loss: 0.7126\n",
            "Epoch 2/10\n",
            "363/363 [==============================] - 0s 927us/step - loss: 0.6577 - val_loss: 0.6880\n",
            "Epoch 3/10\n",
            "363/363 [==============================] - 0s 956us/step - loss: 0.5934 - val_loss: 0.5803\n",
            "Epoch 4/10\n",
            "363/363 [==============================] - 0s 1ms/step - loss: 0.5557 - val_loss: 0.5166\n",
            "Epoch 5/10\n",
            "363/363 [==============================] - 0s 1ms/step - loss: 0.5272 - val_loss: 0.4895\n",
            "Epoch 6/10\n",
            "363/363 [==============================] - 0s 939us/step - loss: 0.5033 - val_loss: 0.4951\n",
            "Epoch 7/10\n",
            "363/363 [==============================] - 0s 986us/step - loss: 0.4854 - val_loss: 0.4861\n",
            "Epoch 8/10\n",
            "363/363 [==============================] - 0s 999us/step - loss: 0.4709 - val_loss: 0.4554\n",
            "Epoch 9/10\n",
            "363/363 [==============================] - 0s 986us/step - loss: 0.4578 - val_loss: 0.4413\n",
            "Epoch 10/10\n",
            "363/363 [==============================] - 0s 979us/step - loss: 0.4474 - val_loss: 0.4379\n"
          ],
          "name": "stdout"
        }
      ]
    },
    {
      "cell_type": "code",
      "metadata": {
        "id": "lxwFz7eAjO09",
        "colab_type": "code",
        "colab": {
          "base_uri": "https://localhost:8080/",
          "height": 69
        },
        "outputId": "5ad42b68-d889-416b-996e-e7c1cf0e8607"
      },
      "source": [
        "%ls"
      ],
      "execution_count": null,
      "outputs": [
        {
          "output_type": "stream",
          "text": [
            "BestModel.h5  Model-03.h5  Model-06.h5  Model-09.h5               \u001b[0m\u001b[01;34msample_data\u001b[0m/\n",
            "Model-01.h5   Model-04.h5  Model-07.h5  Model-10.h5\n",
            "Model-02.h5   Model-05.h5  Model-08.h5  my_function_api_model.h5\n"
          ],
          "name": "stdout"
        }
      ]
    },
    {
      "cell_type": "code",
      "metadata": {
        "id": "DabLEQj-jVd0",
        "colab_type": "code",
        "colab": {}
      },
      "source": [
        "del model\n",
        "keras.backend.clear_session()"
      ],
      "execution_count": null,
      "outputs": []
    },
    {
      "cell_type": "code",
      "metadata": {
        "id": "H6DiT9XqjaZo",
        "colab_type": "code",
        "colab": {}
      },
      "source": [
        "model = keras.models.load_model(\"BestModel.h5\")"
      ],
      "execution_count": null,
      "outputs": []
    },
    {
      "cell_type": "code",
      "metadata": {
        "id": "brI-usvzjeOn",
        "colab_type": "code",
        "colab": {
          "base_uri": "https://localhost:8080/",
          "height": 260
        },
        "outputId": "6d851e20-1afb-409f-bbfb-12804455d448"
      },
      "source": [
        "model.summary()"
      ],
      "execution_count": null,
      "outputs": [
        {
          "output_type": "stream",
          "text": [
            "Model: \"sequential\"\n",
            "_________________________________________________________________\n",
            "Layer (type)                 Output Shape              Param #   \n",
            "=================================================================\n",
            "dense (Dense)                (None, 30)                270       \n",
            "_________________________________________________________________\n",
            "dense_1 (Dense)              (None, 30)                930       \n",
            "_________________________________________________________________\n",
            "dense_2 (Dense)              (None, 1)                 31        \n",
            "=================================================================\n",
            "Total params: 1,231\n",
            "Trainable params: 1,231\n",
            "Non-trainable params: 0\n",
            "_________________________________________________________________\n"
          ],
          "name": "stdout"
        }
      ]
    },
    {
      "cell_type": "code",
      "metadata": {
        "id": "tKTWeD3wjk4O",
        "colab_type": "code",
        "colab": {
          "base_uri": "https://localhost:8080/",
          "height": 369
        },
        "outputId": "0e7734d3-b920-4b64-e2ce-ec52ce53a1bc"
      },
      "source": [
        "import pydot\n",
        "keras.utils.plot_model(model)"
      ],
      "execution_count": null,
      "outputs": [
        {
          "output_type": "execute_result",
          "data": {
            "image/png": "[encoded data removed]",
            "text/plain": [
              "<IPython.core.display.Image object>"
            ]
          },
          "metadata": {
            "tags": []
          },
          "execution_count": 113
        }
      ]
    },
    {
      "cell_type": "code",
      "metadata": {
        "id": "WQQKyzxhjz6t",
        "colab_type": "code",
        "colab": {
          "base_uri": "https://localhost:8080/",
          "height": 422
        },
        "outputId": "2ac91c7e-8896-4a1d-8aeb-9554a619c7c5"
      },
      "source": [
        "from tensorflow.keras.utils import plot_model\n",
        "plot_model(model, to_file='model_plot.png', show_shapes=True, show_layer_names=True)"
      ],
      "execution_count": null,
      "outputs": [
        {
          "output_type": "execute_result",
          "data": {
            "image/png": "[encoded data removed]",
            "text/plain": [
              "<IPython.core.display.Image object>"
            ]
          },
          "metadata": {
            "tags": []
          },
          "execution_count": 114
        }
      ]
    },
    {
      "cell_type": "markdown",
      "metadata": {
        "id": "e8zTwC8tkJoK",
        "colab_type": "text"
      },
      "source": [
        "# Early Stopping during Training and Save Best Model "
      ]
    },
    {
      "cell_type": "markdown",
      "metadata": {
        "id": "fp0xM2jzkRQu",
        "colab_type": "text"
      },
      "source": [
        "Say a model is being trained for a very large number of epochs. We can keep an eye on validation, test scores and when scores are not improving for a number of epochs we stop the training. For instance, the network loss stayed constant after 60 epochs, so we stop there. We save the best model among the trained models."
      ]
    },
    {
      "cell_type": "code",
      "metadata": {
        "colab_type": "code",
        "id": "22YlcpaDlTMA",
        "colab": {}
      },
      "source": [
        "del model\n",
        "keras.backend.clear_session()"
      ],
      "execution_count": null,
      "outputs": []
    },
    {
      "cell_type": "code",
      "metadata": {
        "colab_type": "code",
        "id": "9D4ZP5Pilapa",
        "colab": {}
      },
      "source": [
        "np.random.seed(42)\n",
        "tf.random.set_seed(42)"
      ],
      "execution_count": null,
      "outputs": []
    },
    {
      "cell_type": "code",
      "metadata": {
        "id": "JNR5j_iole8F",
        "colab_type": "code",
        "colab": {}
      },
      "source": [
        "model = keras.models.Sequential([\n",
        "    keras.layers.Dense(30, activation=\"relu\", input_shape=[8]),\n",
        "    keras.layers.Dense(30, activation=\"relu\"),\n",
        "    keras.layers.Dense(1)\n",
        "])    "
      ],
      "execution_count": null,
      "outputs": []
    },
    {
      "cell_type": "code",
      "metadata": {
        "id": "_I4B3AWvlheZ",
        "colab_type": "code",
        "colab": {}
      },
      "source": [
        "model.compile(loss=\"mse\", optimizer=keras.optimizers.SGD(lr=1e-3))"
      ],
      "execution_count": null,
      "outputs": []
    },
    {
      "cell_type": "code",
      "metadata": {
        "id": "nDT4Ni6jllIY",
        "colab_type": "code",
        "colab": {}
      },
      "source": [
        "checkpoint_cb = keras.callbacks.ModelCheckpoint(\"EarlyStopBestModel.h5\", save_best_only=True)"
      ],
      "execution_count": null,
      "outputs": []
    },
    {
      "cell_type": "code",
      "metadata": {
        "id": "1m1mvz0nl6ec",
        "colab_type": "code",
        "colab": {}
      },
      "source": [
        "early_stopping_cb = keras.callbacks.EarlyStopping(patience=10,\n",
        "                                                  restore_best_weights=True)"
      ],
      "execution_count": null,
      "outputs": []
    },
    {
      "cell_type": "markdown",
      "metadata": {
        "id": "IzXW5dXnmUAN",
        "colab_type": "text"
      },
      "source": [
        "patience: Number of epochs with no improvement after which training will be stopped."
      ]
    },
    {
      "cell_type": "code",
      "metadata": {
        "id": "JII5B7vJlnuf",
        "colab_type": "code",
        "colab": {
          "base_uri": "https://localhost:8080/",
          "height": 1000
        },
        "outputId": "bb9a946e-f3d3-404b-c040-fad61948ed95"
      },
      "source": [
        "history = model.fit(X_train, y_train, epochs=200,\n",
        "                    validation_data=(X_valid, y_valid),\n",
        "                    callbacks=[checkpoint_cb, early_stopping_cb])"
      ],
      "execution_count": null,
      "outputs": [
        {
          "output_type": "stream",
          "text": [
            "Epoch 1/200\n",
            "363/363 [==============================] - 0s 1ms/step - loss: 1.8866 - val_loss: 0.7126\n",
            "Epoch 2/200\n",
            "363/363 [==============================] - 0s 993us/step - loss: 0.6577 - val_loss: 0.6880\n",
            "Epoch 3/200\n",
            "363/363 [==============================] - 0s 957us/step - loss: 0.5934 - val_loss: 0.5803\n",
            "Epoch 4/200\n",
            "363/363 [==============================] - 0s 992us/step - loss: 0.5557 - val_loss: 0.5166\n",
            "Epoch 5/200\n",
            "363/363 [==============================] - 0s 991us/step - loss: 0.5272 - val_loss: 0.4895\n",
            "Epoch 6/200\n",
            "363/363 [==============================] - 0s 996us/step - loss: 0.5033 - val_loss: 0.4951\n",
            "Epoch 7/200\n",
            "363/363 [==============================] - 0s 956us/step - loss: 0.4854 - val_loss: 0.4861\n",
            "Epoch 8/200\n",
            "363/363 [==============================] - 0s 966us/step - loss: 0.4709 - val_loss: 0.4554\n",
            "Epoch 9/200\n",
            "363/363 [==============================] - 0s 982us/step - loss: 0.4578 - val_loss: 0.4413\n",
            "Epoch 10/200\n",
            "363/363 [==============================] - 0s 943us/step - loss: 0.4474 - val_loss: 0.4379\n",
            "Epoch 11/200\n",
            "363/363 [==============================] - 0s 945us/step - loss: 0.4393 - val_loss: 0.4396\n",
            "Epoch 12/200\n",
            "363/363 [==============================] - 0s 948us/step - loss: 0.4318 - val_loss: 0.4507\n",
            "Epoch 13/200\n",
            "363/363 [==============================] - 0s 984us/step - loss: 0.4261 - val_loss: 0.3997\n",
            "Epoch 14/200\n",
            "363/363 [==============================] - 0s 964us/step - loss: 0.4202 - val_loss: 0.3956\n",
            "Epoch 15/200\n",
            "363/363 [==============================] - 0s 986us/step - loss: 0.4155 - val_loss: 0.3916\n",
            "Epoch 16/200\n",
            "363/363 [==============================] - 0s 932us/step - loss: 0.4112 - val_loss: 0.3937\n",
            "Epoch 17/200\n",
            "363/363 [==============================] - 0s 976us/step - loss: 0.4077 - val_loss: 0.3809\n",
            "Epoch 18/200\n",
            "363/363 [==============================] - 0s 980us/step - loss: 0.4040 - val_loss: 0.3793\n",
            "Epoch 19/200\n",
            "363/363 [==============================] - 0s 937us/step - loss: 0.4004 - val_loss: 0.3850\n",
            "Epoch 20/200\n",
            "363/363 [==============================] - 0s 985us/step - loss: 0.3980 - val_loss: 0.3809\n",
            "Epoch 21/200\n",
            "363/363 [==============================] - 0s 960us/step - loss: 0.3949 - val_loss: 0.3701\n",
            "Epoch 22/200\n",
            "363/363 [==============================] - 0s 947us/step - loss: 0.3924 - val_loss: 0.3781\n",
            "Epoch 23/200\n",
            "363/363 [==============================] - 0s 1ms/step - loss: 0.3898 - val_loss: 0.3650\n",
            "Epoch 24/200\n",
            "363/363 [==============================] - 0s 956us/step - loss: 0.3874 - val_loss: 0.3655\n",
            "Epoch 25/200\n",
            "363/363 [==============================] - 0s 956us/step - loss: 0.3851 - val_loss: 0.3611\n",
            "Epoch 26/200\n",
            "363/363 [==============================] - 0s 975us/step - loss: 0.3829 - val_loss: 0.3626\n",
            "Epoch 27/200\n",
            "363/363 [==============================] - 0s 981us/step - loss: 0.3809 - val_loss: 0.3564\n",
            "Epoch 28/200\n",
            "363/363 [==============================] - 0s 949us/step - loss: 0.3788 - val_loss: 0.3579\n",
            "Epoch 29/200\n",
            "363/363 [==============================] - 0s 1ms/step - loss: 0.3769 - val_loss: 0.3561\n",
            "Epoch 30/200\n",
            "363/363 [==============================] - 0s 990us/step - loss: 0.3750 - val_loss: 0.3548\n",
            "Epoch 31/200\n",
            "363/363 [==============================] - 0s 1ms/step - loss: 0.3730 - val_loss: 0.3502\n",
            "Epoch 32/200\n",
            "363/363 [==============================] - 0s 984us/step - loss: 0.3714 - val_loss: 0.3642\n",
            "Epoch 33/200\n",
            "363/363 [==============================] - 0s 988us/step - loss: 0.3701 - val_loss: 0.3468\n",
            "Epoch 34/200\n",
            "363/363 [==============================] - 0s 955us/step - loss: 0.3685 - val_loss: 0.3474\n",
            "Epoch 35/200\n",
            "363/363 [==============================] - 0s 983us/step - loss: 0.3672 - val_loss: 0.3624\n",
            "Epoch 36/200\n",
            "363/363 [==============================] - 0s 978us/step - loss: 0.3660 - val_loss: 0.3438\n",
            "Epoch 37/200\n",
            "363/363 [==============================] - 0s 995us/step - loss: 0.3647 - val_loss: 0.3611\n",
            "Epoch 38/200\n",
            "363/363 [==============================] - 0s 939us/step - loss: 0.3636 - val_loss: 0.3459\n",
            "Epoch 39/200\n",
            "363/363 [==============================] - 0s 955us/step - loss: 0.3624 - val_loss: 0.3492\n",
            "Epoch 40/200\n",
            "363/363 [==============================] - 0s 1ms/step - loss: 0.3613 - val_loss: 0.3433\n",
            "Epoch 41/200\n",
            "363/363 [==============================] - 0s 953us/step - loss: 0.3602 - val_loss: 0.3556\n",
            "Epoch 42/200\n",
            "363/363 [==============================] - 0s 969us/step - loss: 0.3593 - val_loss: 0.3483\n",
            "Epoch 43/200\n",
            "363/363 [==============================] - 0s 994us/step - loss: 0.3580 - val_loss: 0.3685\n",
            "Epoch 44/200\n",
            "363/363 [==============================] - 0s 967us/step - loss: 0.3573 - val_loss: 0.3604\n",
            "Epoch 45/200\n",
            "363/363 [==============================] - 0s 966us/step - loss: 0.3564 - val_loss: 0.3399\n",
            "Epoch 46/200\n",
            "363/363 [==============================] - 0s 1ms/step - loss: 0.3552 - val_loss: 0.3506\n",
            "Epoch 47/200\n",
            "363/363 [==============================] - 0s 965us/step - loss: 0.3547 - val_loss: 0.3481\n",
            "Epoch 48/200\n",
            "363/363 [==============================] - 0s 962us/step - loss: 0.3538 - val_loss: 0.3663\n",
            "Epoch 49/200\n",
            "363/363 [==============================] - 0s 991us/step - loss: 0.3531 - val_loss: 0.3355\n",
            "Epoch 50/200\n",
            "363/363 [==============================] - 0s 995us/step - loss: 0.3523 - val_loss: 0.3324\n",
            "Epoch 51/200\n",
            "363/363 [==============================] - 0s 952us/step - loss: 0.3516 - val_loss: 0.3465\n",
            "Epoch 52/200\n",
            "363/363 [==============================] - 0s 955us/step - loss: 0.3509 - val_loss: 0.3309\n",
            "Epoch 53/200\n",
            "363/363 [==============================] - 0s 954us/step - loss: 0.3503 - val_loss: 0.3830\n",
            "Epoch 54/200\n",
            "363/363 [==============================] - 0s 1ms/step - loss: 0.3496 - val_loss: 0.3302\n",
            "Epoch 55/200\n",
            "363/363 [==============================] - 0s 947us/step - loss: 0.3491 - val_loss: 0.3534\n",
            "Epoch 56/200\n",
            "363/363 [==============================] - 0s 992us/step - loss: 0.3484 - val_loss: 0.3289\n",
            "Epoch 57/200\n",
            "363/363 [==============================] - 0s 1ms/step - loss: 0.3477 - val_loss: 0.3282\n",
            "Epoch 58/200\n",
            "363/363 [==============================] - 0s 961us/step - loss: 0.3471 - val_loss: 0.3723\n",
            "Epoch 59/200\n",
            "363/363 [==============================] - 0s 951us/step - loss: 0.3468 - val_loss: 0.3351\n",
            "Epoch 60/200\n",
            "363/363 [==============================] - 0s 974us/step - loss: 0.3461 - val_loss: 0.3514\n",
            "Epoch 61/200\n",
            "363/363 [==============================] - 0s 1ms/step - loss: 0.3453 - val_loss: 0.3523\n",
            "Epoch 62/200\n",
            "363/363 [==============================] - 0s 958us/step - loss: 0.3451 - val_loss: 0.3451\n",
            "Epoch 63/200\n",
            "363/363 [==============================] - 0s 1ms/step - loss: 0.3441 - val_loss: 0.3341\n",
            "Epoch 64/200\n",
            "363/363 [==============================] - 0s 993us/step - loss: 0.3440 - val_loss: 0.3251\n",
            "Epoch 65/200\n",
            "363/363 [==============================] - 0s 986us/step - loss: 0.3433 - val_loss: 0.3380\n",
            "Epoch 66/200\n",
            "363/363 [==============================] - 0s 904us/step - loss: 0.3429 - val_loss: 0.3288\n",
            "Epoch 67/200\n",
            "363/363 [==============================] - 0s 965us/step - loss: 0.3421 - val_loss: 0.3591\n",
            "Epoch 68/200\n",
            "363/363 [==============================] - 0s 960us/step - loss: 0.3419 - val_loss: 0.3313\n",
            "Epoch 69/200\n",
            "363/363 [==============================] - 0s 904us/step - loss: 0.3414 - val_loss: 0.3371\n",
            "Epoch 70/200\n",
            "363/363 [==============================] - 0s 946us/step - loss: 0.3408 - val_loss: 0.3565\n",
            "Epoch 71/200\n",
            "363/363 [==============================] - 0s 976us/step - loss: 0.3404 - val_loss: 0.3607\n",
            "Epoch 72/200\n",
            "363/363 [==============================] - 0s 957us/step - loss: 0.3399 - val_loss: 0.3318\n",
            "Epoch 73/200\n",
            "363/363 [==============================] - 0s 988us/step - loss: 0.3393 - val_loss: 0.3239\n",
            "Epoch 74/200\n",
            "363/363 [==============================] - 0s 981us/step - loss: 0.3391 - val_loss: 0.3839\n",
            "Epoch 75/200\n",
            "363/363 [==============================] - 0s 929us/step - loss: 0.3387 - val_loss: 0.3286\n",
            "Epoch 76/200\n",
            "363/363 [==============================] - 0s 937us/step - loss: 0.3382 - val_loss: 0.3464\n",
            "Epoch 77/200\n",
            "363/363 [==============================] - 0s 986us/step - loss: 0.3377 - val_loss: 0.3490\n",
            "Epoch 78/200\n",
            "363/363 [==============================] - 0s 942us/step - loss: 0.3374 - val_loss: 0.3470\n",
            "Epoch 79/200\n",
            "363/363 [==============================] - 0s 974us/step - loss: 0.3370 - val_loss: 0.3401\n",
            "Epoch 80/200\n",
            "363/363 [==============================] - 0s 965us/step - loss: 0.3366 - val_loss: 0.3387\n",
            "Epoch 81/200\n",
            "363/363 [==============================] - 0s 961us/step - loss: 0.3361 - val_loss: 0.3321\n",
            "Epoch 82/200\n",
            "363/363 [==============================] - 0s 1ms/step - loss: 0.3357 - val_loss: 0.3192\n",
            "Epoch 83/200\n",
            "363/363 [==============================] - 0s 972us/step - loss: 0.3354 - val_loss: 0.3296\n",
            "Epoch 84/200\n",
            "363/363 [==============================] - 0s 953us/step - loss: 0.3349 - val_loss: 0.3709\n",
            "Epoch 85/200\n",
            "363/363 [==============================] - 0s 962us/step - loss: 0.3346 - val_loss: 0.3211\n",
            "Epoch 86/200\n",
            "363/363 [==============================] - 0s 959us/step - loss: 0.3344 - val_loss: 0.3182\n",
            "Epoch 87/200\n",
            "363/363 [==============================] - 0s 953us/step - loss: 0.3340 - val_loss: 0.3572\n",
            "Epoch 88/200\n",
            "363/363 [==============================] - 0s 990us/step - loss: 0.3334 - val_loss: 0.3315\n",
            "Epoch 89/200\n",
            "363/363 [==============================] - 0s 958us/step - loss: 0.3329 - val_loss: 0.3644\n",
            "Epoch 90/200\n",
            "363/363 [==============================] - 0s 997us/step - loss: 0.3330 - val_loss: 0.3459\n",
            "Epoch 91/200\n",
            "363/363 [==============================] - 0s 987us/step - loss: 0.3326 - val_loss: 0.3252\n",
            "Epoch 92/200\n",
            "363/363 [==============================] - 0s 930us/step - loss: 0.3320 - val_loss: 0.3464\n",
            "Epoch 93/200\n",
            "363/363 [==============================] - 0s 936us/step - loss: 0.3318 - val_loss: 0.3196\n",
            "Epoch 94/200\n",
            "363/363 [==============================] - 0s 987us/step - loss: 0.3314 - val_loss: 0.3431\n",
            "Epoch 95/200\n",
            "363/363 [==============================] - 0s 967us/step - loss: 0.3310 - val_loss: 0.3413\n",
            "Epoch 96/200\n",
            "363/363 [==============================] - 0s 949us/step - loss: 0.3306 - val_loss: 0.3267\n"
          ],
          "name": "stdout"
        }
      ]
    },
    {
      "cell_type": "markdown",
      "metadata": {
        "id": "0NXIi8GamwuI",
        "colab_type": "text"
      },
      "source": [
        "We no longer have to plot and wait for convergence with this approach. Our model has converged at 86th epoch and it waited 10 more epochs for it to further converge but instead it went from 0.3182 to 0.3267 and it stopped right there."
      ]
    },
    {
      "cell_type": "code",
      "metadata": {
        "id": "BOXVvCnOnmRz",
        "colab_type": "code",
        "colab": {
          "base_uri": "https://localhost:8080/",
          "height": 87
        },
        "outputId": "c4345c77-b1fe-44ab-eb56-66fb6968a884"
      },
      "source": [
        "%ls"
      ],
      "execution_count": null,
      "outputs": [
        {
          "output_type": "stream",
          "text": [
            "BestModel.h5           Model-03.h5  Model-07.h5  model_plot.png\n",
            "EarlyStopBestModel.h5  Model-04.h5  Model-08.h5  model.png\n",
            "Model-01.h5            Model-05.h5  Model-09.h5  my_function_api_model.h5\n",
            "Model-02.h5            Model-06.h5  Model-10.h5  \u001b[0m\u001b[01;34msample_data\u001b[0m/\n"
          ],
          "name": "stdout"
        }
      ]
    },
    {
      "cell_type": "markdown",
      "metadata": {
        "id": "AMiDlKbdnaTt",
        "colab_type": "text"
      },
      "source": [
        "We have saved the best model as EarlyStopBestModel amongst  all epochs and we can use it to make predictions."
      ]
    },
    {
      "cell_type": "markdown",
      "metadata": {
        "id": "xZyyPjt7gN1_",
        "colab_type": "text"
      },
      "source": [
        "Early Stopping thus aalso prevents overfitting of the training data."
      ]
    },
    {
      "cell_type": "code",
      "metadata": {
        "id": "C6vfS725meyg",
        "colab_type": "code",
        "colab": {}
      },
      "source": [
        "del model\n",
        "keras.backend.clear_session()"
      ],
      "execution_count": null,
      "outputs": []
    },
    {
      "cell_type": "code",
      "metadata": {
        "id": "WesCtcNNnwuM",
        "colab_type": "code",
        "colab": {}
      },
      "source": [
        "model = keras.models.load_model(\"EarlyStopBestModel.h5\")"
      ],
      "execution_count": null,
      "outputs": []
    },
    {
      "cell_type": "code",
      "metadata": {
        "id": "MB9KbBJMn1bc",
        "colab_type": "code",
        "colab": {
          "base_uri": "https://localhost:8080/",
          "height": 35
        },
        "outputId": "1baabf40-4830-44f5-df2b-b7437dc75bc1"
      },
      "source": [
        "mse_test = model.evaluate(X_test, y_test)"
      ],
      "execution_count": null,
      "outputs": [
        {
          "output_type": "stream",
          "text": [
            "162/162 [==============================] - 0s 730us/step - loss: 0.3343\n"
          ],
          "name": "stdout"
        }
      ]
    },
    {
      "cell_type": "markdown",
      "metadata": {
        "id": "tsgnsn_Rcy7K",
        "colab_type": "text"
      },
      "source": [
        "# Hyperparameter Tuning"
      ]
    },
    {
      "cell_type": "markdown",
      "metadata": {
        "id": "6YB6Xk15dDaJ",
        "colab_type": "text"
      },
      "source": [
        "1. Number of Hidden Layers:\n",
        "       a. For most problems single layer is efficient.\n",
        "       b. But constructing deeper networks sometimes increases parameter effieciency.\n",
        "       c.  Hierarchial Structure of deep layers help in converging faster.\n",
        "       d. With deep networks layers don't have to learn from scratch. They use previous layer insights like Transfer learning.\n",
        "       e. For instance, your model is trained to recognize faces, the same network can be used to recognize hairstyles with addition of more hidden layers.\n",
        "       f. For complex networks, you can ramp up the number of layers until you are overfitting the training data."
      ]
    },
    {
      "cell_type": "markdown",
      "metadata": {
        "id": "4QryBVYuepzS",
        "colab_type": "text"
      },
      "source": [
        "2. Number of neurons per hidden layer:\n",
        "       a. Number of neurons in input , output and hidden layers are as per the data and the problem you are trying to solve.\n",
        "       b. Earlier Pyramid structures were followed where number of neurons in first layer is large and then gradually decreases.\n",
        "       c. Now same number of neurons in all layers are preferred."
      ]
    },
    {
      "cell_type": "markdown",
      "metadata": {
        "id": "BrRpPzDJgenI",
        "colab_type": "text"
      },
      "source": [
        "3. Learning rate:\n",
        "       a. To  tune learning rate start with a large value that makes the algorithm diverge.\n",
        "       b. Then divide the value by 3 and try again until your algorithm doesn't diverge anymore.\n",
        "       c. Hence you won't be too far from an optimal learning rate.\n",
        "       "
      ]
    },
    {
      "cell_type": "markdown",
      "metadata": {
        "id": "g-NhStnjhEtN",
        "colab_type": "text"
      },
      "source": [
        "4. Batch size :\n",
        "       a. Thumb rule is keep your batch size less than 32.\n",
        "       b. Small batch size ensures each training iteration is very fast.\n",
        "       c.  Good range is between 20-32.\n",
        "\n",
        "    "
      ]
    },
    {
      "cell_type": "markdown",
      "metadata": {
        "id": "nO-2IJaRhoJe",
        "colab_type": "text"
      },
      "source": [
        "5. Epochs:\n",
        "       a. Number of training iterations are set by us.\n",
        "       b. A best practice could be to use Early Stop Best Model callbacks. \n",
        "       c. Set a large number of epoch and use earlystopping.  \n",
        "       c. To obtain the best model during training and stop the model at the most optimal epoch."
      ]
    },
    {
      "cell_type": "code",
      "metadata": {
        "id": "jIzLa407c3Pc",
        "colab_type": "code",
        "colab": {}
      },
      "source": [
        ""
      ],
      "execution_count": null,
      "outputs": []
    }
  ]
}